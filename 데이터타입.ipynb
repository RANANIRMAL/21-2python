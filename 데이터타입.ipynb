{
  "nbformat": 4,
  "nbformat_minor": 0,
  "metadata": {
    "colab": {
      "name": "데이터타입",
      "provenance": [],
      "authorship_tag": "ABX9TyO9CJsoBA8pLK4sw340Km4g",
      "include_colab_link": true
    },
    "kernelspec": {
      "name": "python3",
      "display_name": "Python 3"
    },
    "language_info": {
      "name": "python"
    }
  },
  "cells": [
    {
      "cell_type": "markdown",
      "metadata": {
        "id": "view-in-github",
        "colab_type": "text"
      },
      "source": [
        "<a href=\"https://colab.research.google.com/github/RANANIRMAL/21-2python/blob/main/%EB%8D%B0%EC%9D%B4%ED%84%B0%ED%83%80%EC%9E%85.ipynb\" target=\"_parent\"><img src=\"https://colab.research.google.com/assets/colab-badge.svg\" alt=\"Open In Colab\"/></a>"
      ]
    },
    {
      "cell_type": "code",
      "metadata": {
        "id": "kkpNFou2sVMI"
      },
      "source": [
        ""
      ],
      "execution_count": null,
      "outputs": []
    },
    {
      "cell_type": "markdown",
      "metadata": {
        "id": "ClwDm78qtkmY"
      },
      "source": [
        "### **학습목표**\n",
        "- dictionnary,set에 대해 이해하기"
      ]
    },
    {
      "cell_type": "markdown",
      "metadata": {
        "id": "Pedj7bjLuD_g"
      },
      "source": [
        "**Dictionary**\n",
        "- 키와 값을 갖는 데이터 구조\n",
        "- 키는 내부적으로 harsh값으로 저장\n",
        "- 순서를 따지지 않음."
      ]
    },
    {
      "cell_type": "code",
      "metadata": {
        "colab": {
          "base_uri": "https://localhost:8080/"
        },
        "id": "ify1Gn5UtySJ",
        "outputId": "65a5d557-d5a6-45fe-ed0a-b883cde93a3a"
      },
      "source": [
        "a = {'Korea': ' Seoul',\n",
        "     'Canada' : 'Ottawa' ,\n",
        "     'USA' : 'Washington D.C' }\n",
        "b = {0:1, 1:6, 7:9, 8:10}\n",
        "\n",
        "print(a)\n",
        "print(a['Korea'])\n",
        " #print(a['Japan'])\n",
        "print(b[1])\n",
        "print(b[0])    "
      ],
      "execution_count": null,
      "outputs": [
        {
          "output_type": "stream",
          "name": "stdout",
          "text": [
            "{'Korea': ' Seoul', 'Canada': 'Ottawa', 'USA': 'Washington D.C'}\n",
            " Seoul\n",
            "6\n",
            "1\n"
          ]
        }
      ]
    },
    {
      "cell_type": "markdown",
      "metadata": {
        "id": "YpzwzuXkwBlg"
      },
      "source": [
        "## **항목 추가 및 변경**\n",
        "-  기존 키가 존재하면, 새로운 값으로 업데이트\n",
        "- 기존에 키가 없더면, 새로운 키값으로 생선"
      ]
    },
    {
      "cell_type": "code",
      "metadata": {
        "colab": {
          "base_uri": "https://localhost:8080/"
        },
        "id": "9aG_fXmnvnky",
        "outputId": "51ba6109-81c4-4300-ab96-b7a69d20db1b"
      },
      "source": [
        "a['Japan'] = 'Tokyo'\n",
        "print(a)\n",
        "a['Japan'] = 'Osaka'\n",
        "print(a)\n",
        "a['China'] = 'Beijing'\n",
        "print(a)"
      ],
      "execution_count": null,
      "outputs": [
        {
          "output_type": "stream",
          "name": "stdout",
          "text": [
            "{'Korea': ' Seoul', 'Canada': 'Ottawa', 'USA': 'Washington D.C', 'Japan': 'Tokyo'}\n",
            "{'Korea': ' Seoul', 'Canada': 'Ottawa', 'USA': 'Washington D.C', 'Japan': 'Osaka'}\n",
            "{'Korea': ' Seoul', 'Canada': 'Ottawa', 'USA': 'Washington D.C', 'Japan': 'Osaka', 'China': 'Beijing'}\n"
          ]
        }
      ]
    },
    {
      "cell_type": "markdown",
      "metadata": {
        "id": "ZPqqOuB0xA-H"
      },
      "source": [
        "- upadate()\n",
        " - 두 딕셔너리를 병합\n",
        " - 겹치는 키가 있다면, 전달되는 값이 업데이트된다."
      ]
    },
    {
      "cell_type": "code",
      "metadata": {
        "colab": {
          "base_uri": "https://localhost:8080/"
        },
        "id": "slXr8wDiwvUr",
        "outputId": "69cfe713-094a-4562-ffad-4ab77a57d335"
      },
      "source": [
        "a = {'a' : 'apple', 'b' : 'banana', 'c' : 'car' }\n",
        "b = {'b' : 'bus', 'c': 'caramel', 'd' : 'dynamite', 'e' : ' education' }\n",
        "\n",
        "a.update(b) #a외 b병함\n",
        "print(a)"
      ],
      "execution_count": null,
      "outputs": [
        {
          "output_type": "stream",
          "name": "stdout",
          "text": [
            "{'a': 'apple', 'b': 'bus', 'c': 'caramel', 'd': 'dynamite', 'e': ' education'}\n"
          ]
        }
      ]
    },
    {
      "cell_type": "markdown",
      "metadata": {
        "id": "tS7o2yIT5YTu"
      },
      "source": [
        "**key식제**\n",
        "- del 키워드\n",
        "- pop 함수 이용\n"
      ]
    },
    {
      "cell_type": "code",
      "metadata": {
        "colab": {
          "base_uri": "https://localhost:8080/"
        },
        "id": "jFwJHY1iyHGY",
        "outputId": "206e496e-0e6b-4e74-ee0f-bb8b76ace92a"
      },
      "source": [
        "a = {'a':1, 'b':2,' c':3 }\n",
        "print(a)\n",
        "\n",
        "del a['a']\n",
        "print(a)\n",
        "\n",
        "c = a.pop('b')\n",
        "print(c)"
      ],
      "execution_count": null,
      "outputs": [
        {
          "output_type": "stream",
          "name": "stdout",
          "text": [
            "{'a': 1, 'b': 2, ' c': 3}\n",
            "{'b': 2, ' c': 3}\n",
            "2\n"
          ]
        }
      ]
    },
    {
      "cell_type": "markdown",
      "metadata": {
        "id": "6J9ghe9m9V1W"
      },
      "source": [
        "**clear**\n",
        "- 딕셔너리 값을 모두 초기화"
      ]
    },
    {
      "cell_type": "code",
      "metadata": {
        "colab": {
          "base_uri": "https://localhost:8080/"
        },
        "id": "-ShjqxrK599f",
        "outputId": "44172ff1-8f7b-461e-b7de-91a5219041f5"
      },
      "source": [
        "a = {'a' :1, 'b':2, 'c ':3}\n",
        "a['add'] = 4\n",
        "print(a)\n",
        "a.clear()\n",
        "print(a)"
      ],
      "execution_count": null,
      "outputs": [
        {
          "output_type": "stream",
          "name": "stdout",
          "text": [
            "{'a': 1, 'b': 2, 'c ': 3, 'add': 4}\n",
            "{}\n"
          ]
        }
      ]
    },
    {
      "cell_type": "markdown",
      "metadata": {
        "id": "GeSyPxUW9xsG"
      },
      "source": [
        "**in**\n",
        "- key값의 존재를 확인"
      ]
    },
    {
      "cell_type": "code",
      "metadata": {
        "colab": {
          "base_uri": "https://localhost:8080/"
        },
        "id": "0--cs9IA9wl2",
        "outputId": "bf63ff2f-77a8-44d3-9260-fc96f3db3726"
      },
      "source": [
        "a = {'a' :1, 'b':2, 'c ':3}\n",
        "print(2 in  a)\n",
        "print('a' in a)"
      ],
      "execution_count": null,
      "outputs": [
        {
          "output_type": "stream",
          "name": "stdout",
          "text": [
            "False\n",
            "True\n"
          ]
        }
      ]
    },
    {
      "cell_type": "markdown",
      "metadata": {
        "id": "e6ogZCGZ-TBf"
      },
      "source": [
        "- dict[key]로 접근, 키가 존재하지 않을 경우 에러\n",
        "- .get()함수로 접근해서 키가 없는 경우에는 프로그햄을 실행"
      ]
    },
    {
      "cell_type": "code",
      "metadata": {
        "colab": {
          "base_uri": "https://localhost:8080/"
        },
        "id": "ZPAY6oqA-Eh-",
        "outputId": "2afa8e35-2f48-4b96-d624-94e4359b4cd8"
      },
      "source": [
        "a = {'a' :1, 'b':2, 'c ':3}\n",
        "print(a['a'])\n",
        "print(a.get('d'))"
      ],
      "execution_count": null,
      "outputs": [
        {
          "output_type": "stream",
          "name": "stdout",
          "text": [
            "1\n",
            "None\n"
          ]
        }
      ]
    },
    {
      "cell_type": "markdown",
      "metadata": {
        "id": "fp1xFLyE_67F"
      },
      "source": [
        ""
      ]
    },
    {
      "cell_type": "markdown",
      "metadata": {
        "id": "UuaASmzk_D7M"
      },
      "source": [
        "** 모든 key와 값에 접근 **\n",
        "\n",
        "- keys() : 키만 반환\n",
        "- values() : 값만 반환\n",
        "- iteams() : 키와 값의 튜플을 반환"
      ]
    },
    {
      "cell_type": "code",
      "metadata": {
        "colab": {
          "base_uri": "https://localhost:8080/"
        },
        "id": "DbRHtwjm-1ac",
        "outputId": "39319566-75d4-4861-c6ea-036344936d57"
      },
      "source": [
        "a = {'a' :1, 'b':2, 'c ':3}\n",
        "print(a)\n",
        "print(list(a.keys()))\n",
        "print(list(a.values()))\n",
        "print(list(a.items()))"
      ],
      "execution_count": null,
      "outputs": [
        {
          "output_type": "stream",
          "name": "stdout",
          "text": [
            "{'a': 1, 'b': 2, 'c ': 3}\n",
            "['a', 'b', 'c ']\n",
            "[1, 2, 3]\n",
            "[('a', 1), ('b', 2), ('c ', 3)]\n"
          ]
        }
      ]
    },
    {
      "cell_type": "markdown",
      "metadata": {
        "id": "vEifQzajGKdE"
      },
      "source": [
        "### **Set**\n",
        "- dictionary에서 key만 활용한 데이터구조\n",
        "- 중복이 허용되지 않느 구조"
      ]
    },
    {
      "cell_type": "code",
      "metadata": {
        "colab": {
          "base_uri": "https://localhost:8080/"
        },
        "id": "HHsHGEv5GawG",
        "outputId": "d9fdf742-9fb4-4564-eab7-ed92199e3262"
      },
      "source": [
        "a = {5,2,3,2,6,4,1,2,3,3 }\n",
        "print(a)"
      ],
      "execution_count": null,
      "outputs": [
        {
          "output_type": "stream",
          "name": "stdout",
          "text": [
            "{1, 2, 3, 4, 5, 6}\n"
          ]
        }
      ]
    },
    {
      "cell_type": "code",
      "metadata": {
        "colab": {
          "base_uri": "https://localhost:8080/"
        },
        "id": "BfoKB56K_c4c",
        "outputId": "556de53d-2c51-47d0-d4b1-948e0a972cef"
      },
      "source": [
        "#리스트를 Set으로 변경\n",
        "a = {5,2,3,2,6,4,1,2,3,3 }\n",
        "print(a)\n",
        "\n",
        "b = set(a)\n",
        "print(b)"
      ],
      "execution_count": null,
      "outputs": [
        {
          "output_type": "stream",
          "name": "stdout",
          "text": [
            "{1, 2, 3, 4, 5, 6}\n",
            "{1, 2, 3, 4, 5, 6}\n"
          ]
        }
      ]
    },
    {
      "cell_type": "code",
      "metadata": {
        "colab": {
          "base_uri": "https://localhost:8080/",
          "height": 244
        },
        "id": "WQJ_GkJNGtm7",
        "outputId": "dc6bd04f-3e42-405a-c4a8-d41301fa4115"
      },
      "source": [
        "a = {1,2,3}\n",
        "b = {2,3,4}\n",
        "\n",
        "c = a.union(b) #함집합\n",
        "print(c)\n",
        "d = a.intersection(b) #교집함\n",
        "print(d)\n",
        "c = a.difference(b) #A-B 차집합\n",
        "print(e)"
      ],
      "execution_count": null,
      "outputs": [
        {
          "output_type": "stream",
          "name": "stdout",
          "text": [
            "{1, 2, 3, 4}\n",
            "{2, 3}\n"
          ]
        },
        {
          "output_type": "error",
          "ename": "NameError",
          "evalue": "ignored",
          "traceback": [
            "\u001b[0;31m---------------------------------------------------------------------------\u001b[0m",
            "\u001b[0;31mNameError\u001b[0m                                 Traceback (most recent call last)",
            "\u001b[0;32m<ipython-input-27-74e400b6a71d>\u001b[0m in \u001b[0;36m<module>\u001b[0;34m()\u001b[0m\n\u001b[1;32m      7\u001b[0m \u001b[0mprint\u001b[0m\u001b[0;34m(\u001b[0m\u001b[0md\u001b[0m\u001b[0;34m)\u001b[0m\u001b[0;34m\u001b[0m\u001b[0;34m\u001b[0m\u001b[0m\n\u001b[1;32m      8\u001b[0m \u001b[0mc\u001b[0m \u001b[0;34m=\u001b[0m \u001b[0ma\u001b[0m\u001b[0;34m.\u001b[0m\u001b[0mdifference\u001b[0m\u001b[0;34m(\u001b[0m\u001b[0mb\u001b[0m\u001b[0;34m)\u001b[0m \u001b[0;31m#A-B 차집합\u001b[0m\u001b[0;34m\u001b[0m\u001b[0;34m\u001b[0m\u001b[0m\n\u001b[0;32m----> 9\u001b[0;31m \u001b[0mprint\u001b[0m\u001b[0;34m(\u001b[0m\u001b[0me\u001b[0m\u001b[0;34m)\u001b[0m\u001b[0;34m\u001b[0m\u001b[0;34m\u001b[0m\u001b[0m\n\u001b[0m",
            "\u001b[0;31mNameError\u001b[0m: name 'e' is not defined"
          ]
        }
      ]
    },
    {
      "cell_type": "code",
      "metadata": {
        "id": "uOPcb8oEIA_d"
      },
      "source": [
        ""
      ],
      "execution_count": null,
      "outputs": []
    }
  ]
}