{
  "nbformat": 4,
  "nbformat_minor": 0,
  "metadata": {
    "colab": {
      "name": "210906  실습코드1.ipynb",
      "provenance": [],
      "authorship_tag": "ABX9TyPKYVMTbW/px1LTSY7F1evb",
      "include_colab_link": true
    },
    "kernelspec": {
      "name": "python3",
      "display_name": "Python 3"
    },
    "language_info": {
      "name": "python"
    }
  },
  "cells": [
    {
      "cell_type": "markdown",
      "metadata": {
        "id": "view-in-github",
        "colab_type": "text"
      },
      "source": [
        "<a href=\"https://colab.research.google.com/github/RANANIRMAL/21-2python/blob/main/210906_%EC%8B%A4%EC%8A%B5%EC%BD%94%EB%93%9C1.ipynb\" target=\"_parent\"><img src=\"https://colab.research.google.com/assets/colab-badge.svg\" alt=\"Open In Colab\"/></a>"
      ]
    },
    {
      "cell_type": "code",
      "metadata": {
        "colab": {
          "base_uri": "https://localhost:8080/"
        },
        "id": "GRoixcUHYElt",
        "outputId": "5ad30b32-e5e1-4863-f6c4-98a83914c435"
      },
      "source": [
        "#\n",
        "print(\"Hello World!\")"
      ],
      "execution_count": null,
      "outputs": [
        {
          "output_type": "stream",
          "name": "stdout",
          "text": [
            "Hello World!\n"
          ]
        }
      ]
    },
    {
      "cell_type": "code",
      "metadata": {
        "colab": {
          "base_uri": "https://localhost:8080/"
        },
        "id": "UL5gqG1_abY-",
        "outputId": "cd8b3413-0612-4814-e0db-8c42941ba19a"
      },
      "source": [
        "# 2. 두 정수 A와 B를 입력받은 다음.\n",
        "# A+B를 출력하는 프로그햄을 작성하시오.\n",
        "a, b = input().split()\n",
        "a = int(a)\n",
        "b = int(b)\n",
        "print(a+b)"
      ],
      "execution_count": null,
      "outputs": [
        {
          "output_type": "stream",
          "name": "stdout",
          "text": [
            "1 2\n",
            "3\n"
          ]
        }
      ]
    },
    {
      "cell_type": "code",
      "metadata": {
        "colab": {
          "base_uri": "https://localhost:8080/"
        },
        "id": "PbJlx7chb5pt",
        "outputId": "029820c2-cb85-4d91-aa8d-b48dec94a9e5"
      },
      "source": [
        "#3 두 자연수 A와 B가 주어진다.\n",
        "#이떄,A+B, A-B,A*B,A/B(몫),A%B(나머지)를 출력하는 프로글램을 작성하세요.\n",
        "a, b = input().split()\n",
        "a = int(a)\n",
        "b = int(b)\n",
        "print(a+b)\n",
        "print(a-b)\n",
        "print(a*b)\n",
        "print(a//b)\n",
        "print(a%b)"
      ],
      "execution_count": null,
      "outputs": [
        {
          "output_type": "stream",
          "name": "stdout",
          "text": [
            "7 3\n",
            "10\n",
            "4\n",
            "21\n",
            "2\n",
            "1\n"
          ]
        }
      ]
    },
    {
      "cell_type": "code",
      "metadata": {
        "id": "rSDo8yX0e1XL",
        "colab": {
          "base_uri": "https://localhost:8080/"
        },
        "outputId": "6a16c611-020c-421d-bf32-19d5a1cd05f3"
      },
      "source": [
        "#. (BOJ 9498) **if문**\n",
        "# 시험 점수를 입력받아\n",
        "# 90 ~ 100점은 AM 80 ~ 89점은 B,\n",
        "# 70 ~79점은 C, 60 ~ 69점은 D,\n",
        "# 나머지 점수는 F를 출력하는 프로그램을 작성하시오.\n",
        "\n",
        "score = int(input())\n",
        "if score>=90 :\n",
        " print(\"A\")\n",
        "elif score>=80 :\n",
        " print(\"B\")\n",
        "elif score>=70 :\n",
        " print(\"C\")\n",
        "elif score>=60 :\n",
        "  print(\"D\")\n",
        "else:\n",
        "  print(\"F\") \n"
      ],
      "execution_count": null,
      "outputs": [
        {
          "output_type": "stream",
          "name": "stdout",
          "text": [
            "90\n",
            "A\n"
          ]
        }
      ]
    },
    {
      "cell_type": "code",
      "metadata": {
        "colab": {
          "base_uri": "https://localhost:8080/"
        },
        "id": "5uEZk836mJfw",
        "outputId": "e20fb4c6-ab31-47ff-afa1-1ce772ff4b19"
      },
      "source": [
        "# 5. ((BOJ 1330)) **if문**\n",
        "# 두 정수 A와 B가 주어졌을 떄,\n",
        "# A외 B를 비교하는 프로그램을 작성하시오.\n",
        "a, b = input().split()\n",
        "\n",
        "a= int(a)\n",
        "b= int(b)\n",
        "\n",
        "if a < b:\n",
        " print(\"<\")\n",
        "elif a > b:\n",
        "  print(\">\")\n",
        "else:\n",
        "  print(\"==\")\n",
        "\n"
      ],
      "execution_count": null,
      "outputs": [
        {
          "output_type": "stream",
          "name": "stdout",
          "text": [
            "1 2\n",
            "<\n"
          ]
        }
      ]
    },
    {
      "cell_type": "code",
      "metadata": {
        "colab": {
          "base_uri": "https://localhost:8080/",
          "height": 54
        },
        "id": "a4Lkoea6qNhb",
        "outputId": "696611b6-0e1c-47c3-aaec-66b1524da6be"
      },
      "source": [
        "a,b = input().split()\n",
        "a+b"
      ],
      "execution_count": null,
      "outputs": [
        {
          "name": "stdout",
          "output_type": "stream",
          "text": [
            "10 20\n"
          ]
        },
        {
          "output_type": "execute_result",
          "data": {
            "application/vnd.google.colaboratory.intrinsic+json": {
              "type": "string"
            },
            "text/plain": [
              "'1020'"
            ]
          },
          "metadata": {},
          "execution_count": 23
        }
      ]
    }
  ]
}