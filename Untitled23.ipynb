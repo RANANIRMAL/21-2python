{
  "nbformat": 4,
  "nbformat_minor": 0,
  "metadata": {
    "colab": {
      "name": "Untitled0.ipynb",
      "provenance": [],
      "collapsed_sections": [],
      "authorship_tag": "ABX9TyNwH5n1O8TmD/uwqIv5CWEP",
      "include_colab_link": true
    },
    "kernelspec": {
      "name": "python3",
      "display_name": "Python 3"
    },
    "language_info": {
      "name": "python"
    }
  },
  "cells": [
    {
      "cell_type": "markdown",
      "metadata": {
        "id": "view-in-github",
        "colab_type": "text"
      },
      "source": [
        "<a href=\"https://colab.research.google.com/github/RANANIRMAL/21-2python/blob/main/Untitled23.ipynb\" target=\"_parent\"><img src=\"https://colab.research.google.com/assets/colab-badge.svg\" alt=\"Open In Colab\"/></a>"
      ]
    },
    {
      "cell_type": "code",
      "metadata": {
        "id": "52NUItkWXdUk"
      },
      "source": [
        ""
      ],
      "execution_count": null,
      "outputs": []
    },
    {
      "cell_type": "code",
      "metadata": {
        "id": "VshsfW8vbiPA"
      },
      "source": [
        ""
      ],
      "execution_count": null,
      "outputs": []
    },
    {
      "cell_type": "markdown",
      "metadata": {
        "id": "PTgjKHzZbl1_"
      },
      "source": [
        "# **학습목표**\n",
        "1. python 언어에서 변수의 의미를 이해하기\n",
        "# 2. 기본 데이터 타입을 선어하기 (int,float,str,bool)\n"
      ]
    },
    {
      "cell_type": "code",
      "metadata": {
        "id": "I_nXeUrhdLLX"
      },
      "source": [
        ""
      ],
      "execution_count": null,
      "outputs": []
    },
    {
      "cell_type": "markdown",
      "metadata": {
        "id": "sje9VZA8dNqY"
      },
      "source": [
        "### **대입연산지**\n",
        "* 대입의  경우, 오른쪽의 수것이나 값을 계산한 뒤,\n",
        "* 변수는 해당 값을 가지게 된다."
      ]
    },
    {
      "cell_type": "code",
      "metadata": {
        "id": "tYedMMDZdsb-"
      },
      "source": [
        "a = 10 #int\n",
        "b = 11.4 #float"
      ],
      "execution_count": 1,
      "outputs": []
    },
    {
      "cell_type": "code",
      "metadata": {
        "colab": {
          "base_uri": "https://localhost:8080/"
        },
        "id": "aW6rrhoAd71X",
        "outputId": "4daed871-c876-4b1a-fa95-b7f90dd48e7f"
      },
      "source": [
        "print(a)"
      ],
      "execution_count": 2,
      "outputs": [
        {
          "output_type": "stream",
          "text": [
            "10\n"
          ],
          "name": "stdout"
        }
      ]
    },
    {
      "cell_type": "code",
      "metadata": {
        "id": "SVw7kLKOejVv"
      },
      "source": [
        ""
      ],
      "execution_count": null,
      "outputs": []
    },
    {
      "cell_type": "markdown",
      "metadata": {
        "id": "JBRkCArpe6hK"
      },
      "source": [
        "## **주석(Comment)**\n",
        "* 코드에서 #으로 시작하는 뒷부분은 실행 안함\n",
        "* python이 실행할 때 #만나면 무시\n",
        "* 개발자(사람)이 보기 위한 용도로 사용"
      ]
    },
    {
      "cell_type": "code",
      "metadata": {
        "id": "UUyMRfWqfci_"
      },
      "source": [
        "#this line is important\n",
        "#so dont delete those lines\n",
        "\n",
        "math = 11\n",
        "english = 57.8"
      ],
      "execution_count": 3,
      "outputs": []
    },
    {
      "cell_type": "code",
      "metadata": {
        "colab": {
          "base_uri": "https://localhost:8080/"
        },
        "id": "xWneZ2j_gQVQ",
        "outputId": "d5bc900c-b530-46a0-b861-10038fece7d0"
      },
      "source": [
        "print(a,b)"
      ],
      "execution_count": 5,
      "outputs": [
        {
          "output_type": "stream",
          "text": [
            "10 11.4\n"
          ],
          "name": "stdout"
        }
      ]
    },
    {
      "cell_type": "markdown",
      "metadata": {
        "id": "X15UaVUxgWKj"
      },
      "source": [
        "### **print 함수**\n",
        "* 함수란 특정 기능을 반복적으로 호출하여 사용가능한 코드블럭\n",
        "* 행당 변수 값이 출력\n",
        "* .로 여러 변수를 나열하면 한줄에 출력\n",
        "* 기본적으로는 한칸 띄아쓰기 후 출력"
      ]
    },
    {
      "cell_type": "code",
      "metadata": {
        "colab": {
          "base_uri": "https://localhost:8080/"
        },
        "id": "h3063xEohBP6",
        "outputId": "e1dba643-db1d-4110-8e65-33e506810f95"
      },
      "source": [
        " print(math ,english,20,'니르말')\n"
      ],
      "execution_count": 4,
      "outputs": [
        {
          "output_type": "stream",
          "text": [
            "11 57.8 20 니르말\n"
          ],
          "name": "stdout"
        }
      ]
    },
    {
      "cell_type": "markdown",
      "metadata": {
        "id": "XN_CdXKzh-yf"
      },
      "source": [
        "### **변수의 값 확인 방법+*\n",
        "1 print()함수 사용\n",
        "2 변수 값을 코드의 마지막에 위치 시킨 후 실행\n",
        "      * 이 겅우 output 변수의 값이 된다."
      ]
    },
    {
      "cell_type": "code",
      "metadata": {
        "colab": {
          "base_uri": "https://localhost:8080/"
        },
        "id": "BnVv-JAZha3i",
        "outputId": "7d2475af-c1ff-4682-eea8-5faa192722e7"
      },
      "source": [
        "math"
      ],
      "execution_count": 8,
      "outputs": [
        {
          "output_type": "execute_result",
          "data": {
            "text/plain": [
              "11"
            ]
          },
          "metadata": {},
          "execution_count": 8
        }
      ]
    },
    {
      "cell_type": "code",
      "metadata": {
        "colab": {
          "base_uri": "https://localhost:8080/"
        },
        "id": "Dl71mNE4hy8X",
        "outputId": "9bbdc3ee-2e7b-4633-90e4-95ed00f8f6c1"
      },
      "source": [
        "math"
      ],
      "execution_count": 9,
      "outputs": [
        {
          "output_type": "execute_result",
          "data": {
            "text/plain": [
              "11"
            ]
          },
          "metadata": {},
          "execution_count": 9
        }
      ]
    },
    {
      "cell_type": "markdown",
      "metadata": {
        "id": "3GQkfgo1kEU4"
      },
      "source": [
        "### **변수 이름 규칙**\n",
        "* 영어 대소문자 ._. 숫자로 구성 가능\n",
        "      *숫자로 시작은 안된다!\n",
        "* 알반적으로 변수를 표현할 때 정확하고 간결한 이름을 사용하여 쉽게 이해하독록 설정한다.\n",
        "      *에) a= 900 경우보다,hy_student_num = 900읋 명사헌는 것이 이해가 빠르다."
      ]
    },
    {
      "cell_type": "code",
      "metadata": {
        "id": "pz2WIOU8kCE4"
      },
      "source": [
        "abAB = 100\n",
        "#4_num = 10숫자로 사정하여 실행안됨\n",
        "ABab =200\n",
        "_right = 800"
      ],
      "execution_count": 10,
      "outputs": []
    },
    {
      "cell_type": "markdown",
      "metadata": {
        "id": "Vn4svnEekBY4"
      },
      "source": [
        ""
      ]
    },
    {
      "cell_type": "markdown",
      "metadata": {
        "id": "Yo1qigloldo9"
      },
      "source": [
        "### **예약어(키워드)**\n",
        "* python에서 미리 선정하여 사용중인 키워드\n",
        "* 변수, 잠수,클래스 등 사용자 정의 이름으로 사용할 수 없음"
      ]
    },
    {
      "cell_type": "code",
      "metadata": {
        "id": "3J51S17zl4qx"
      },
      "source": [
        "for = 10 #for은 예약어로 변수 사용 불가\n",
        "_for = 100 \n",
        "_for = "
      ],
      "execution_count": null,
      "outputs": []
    }
  ]
}